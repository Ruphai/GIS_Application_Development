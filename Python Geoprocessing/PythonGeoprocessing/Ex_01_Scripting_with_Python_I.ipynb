{
 "cells": [
  {
   "cell_type": "markdown",
   "metadata": {},
   "source": [
    "# Programming with Python and a Python Editor (IDE): basic principles of the Python language"
   ]
  },
  {
   "cell_type": "markdown",
   "metadata": {},
   "source": [
    "Start Pyzo [or IDLE or a similar IDE] or use a ArcGIS Pro Notebook. An Interactive Window (Python Interpreter Window / Python Shell) should be automatically opened. If you are using a Notebook you can directly execute code and results are shown below your \"code cell\". \n",
    "If you use IDEs outside of ArcGIS Pro, make sure that the correct Python shell is loaded/configured (ArcGIS Pro / Python 3). If the opened shell is not adressing Python 3.x you should configure/selecting an additional shell, connecting to your Python 3.x environment (in the case of ArcGIS Pro usually located at C:\\Program Files\\ArcGIS\\Pro\\bin\\Python\\envs\\arcgispro-py3\\python.exe). The Interactive Window provides you with a way of executing and testing individual lines of code, outputs error messages, and allows you to display output from your code via the print statement. Open a new (empty) document (File > New), where you will write your Python script. Save the empty Script (Save As). \n",
    "[If you simply need to write and test a few lines of code, you can use the Interactive Window only] \n"
   ]
  },
  {
   "cell_type": "markdown",
   "metadata": {},
   "source": [
    " ### Comment"
   ]
  },
  {
   "cell_type": "markdown",
   "metadata": {},
   "source": [
    "Python and all other programming languages provide a way to document the code that you write. Documentation serves an important purpose in detailing what your script does, who wrote the script, when it was last modified, and generally makes your code easier to understand. Commented lines of code are ignored by the Python interpreter, and serve strictly as documentation. Python uses the \"#\" sign to comment lines of code. \n",
    "The first lines of a script should be commented explanations of the purpose of the script, the author and the date of creation. Add the following lines to your script:\n",
    "\n"
   ]
  },
  {
   "cell_type": "code",
   "execution_count": null,
   "metadata": {},
   "outputs": [],
   "source": [
    "# Name: Rufai Omowunmi Balogun\n",
    "# Date: 17th of May, 2021\n",
    "# Purpose: A basic introduction to Python for GeoProcessing Workflows. "
   ]
  },
  {
   "cell_type": "markdown",
   "metadata": {},
   "source": [
    "### Variables"
   ]
  },
  {
   "cell_type": "markdown",
   "metadata": {},
   "source": [
    "Now we will create some variables. We will use the print statement (explanation in the next lesson) to return the value of the variables:"
   ]
  },
  {
   "cell_type": "code",
   "execution_count": 1,
   "metadata": {},
   "outputs": [
    {
     "name": "stdout",
     "output_type": "stream",
     "text": [
      "5\n"
     ]
    }
   ],
   "source": [
    "a = 5\n",
    "print (a)"
   ]
  },
  {
   "cell_type": "markdown",
   "metadata": {},
   "source": [
    "Some IDE's offer the possibility to check for any syntax errors in your code before running the script. In any case, you will get an error message during execution time if your script contains syntax errors you will e.g. see the following error message:\n",
    "\n",
    "“Syntax error- invalid syntax” \n",
    "\n",
    "In the best case, the cursor will be placed in the line where the error occurs, usually the line number where the error occurs is part of the error message. After correcting the error you can run the script again (e.g. in Pyzo with Ctrl + E).\n",
    "\n",
    "Run the following lines of code:\n"
   ]
  },
  {
   "cell_type": "code",
   "execution_count": 2,
   "metadata": {},
   "outputs": [
    {
     "name": "stdout",
     "output_type": "stream",
     "text": [
      "11\n"
     ]
    }
   ],
   "source": [
    "b = 5 + 6\n",
    "print (b)"
   ]
  },
  {
   "cell_type": "markdown",
   "metadata": {},
   "source": [
    "The result of b should now be 11 (sum of 5 + 6). \n",
    "Variables can also hold string or list data types:\n"
   ]
  },
  {
   "cell_type": "code",
   "execution_count": 3,
   "metadata": {},
   "outputs": [
    {
     "name": "stdout",
     "output_type": "stream",
     "text": [
      "Hello\n",
      "Python\n",
      "Variables\n",
      "Variables\n"
     ]
    }
   ],
   "source": [
    "c = \"Hello\"\n",
    "d = [\"Python\", \"Lists\", \"Variables\"] \n",
    "print (c)\n",
    "print  (d[0])\n",
    "print  (d[2])\n",
    "print  (d[-1])"
   ]
  },
  {
   "cell_type": "markdown",
   "metadata": {},
   "source": [
    "Python is case sensitive – try to use now the following code:"
   ]
  },
  {
   "cell_type": "code",
   "execution_count": 5,
   "metadata": {},
   "outputs": [
    {
     "name": "stdout",
     "output_type": "stream",
     "text": [
      "Hello\n"
     ]
    }
   ],
   "source": [
    "strVariable = \"Hello\"\n",
    "print (strVariable)"
   ]
  },
  {
   "cell_type": "markdown",
   "metadata": {},
   "source": [
    "Now you will get an error message. \"NameError: name 'strvariable' is not defined\"\n",
    "= the second variable (strvariable) has not been defined – only 'strVariable' has a value."
   ]
  },
  {
   "cell_type": "markdown",
   "metadata": {},
   "source": [
    "### Concatenate strings"
   ]
  },
  {
   "cell_type": "markdown",
   "metadata": {},
   "source": [
    "String can be concatenated using the (+) operator:"
   ]
  },
  {
   "cell_type": "code",
   "execution_count": 6,
   "metadata": {},
   "outputs": [
    {
     "name": "stdout",
     "output_type": "stream",
     "text": [
      "Streets.shp\n"
     ]
    }
   ],
   "source": [
    "name = \"Streets\"\n",
    "type = \".shp\"\n",
    "print (name + type)\n"
   ]
  },
  {
   "cell_type": "markdown",
   "metadata": {},
   "source": [
    "Add the following lines:"
   ]
  },
  {
   "cell_type": "code",
   "execution_count": 8,
   "metadata": {},
   "outputs": [
    {
     "name": "stdout",
     "output_type": "stream",
     "text": [
      "Streets1.shp\n"
     ]
    }
   ],
   "source": [
    "i = 1\n",
    "print (name + str(i) + type)"
   ]
  },
  {
   "cell_type": "markdown",
   "metadata": {},
   "source": [
    "Now you will get an error message similar to “TypeError: must be str, not int”. To add a number to a string expression (concatenate instead of a calculation), the number has to be converted to a string first: Built-in function str() can be used:"
   ]
  },
  {
   "cell_type": "code",
   "execution_count": 9,
   "metadata": {},
   "outputs": [
    {
     "name": "stdout",
     "output_type": "stream",
     "text": [
      "Streets1.shp\n"
     ]
    }
   ],
   "source": [
    "print (name + str(i) + type)"
   ]
  },
  {
   "cell_type": "markdown",
   "metadata": {},
   "source": [
    "### Built-in functions"
   ]
  },
  {
   "cell_type": "markdown",
   "metadata": {},
   "source": [
    "str() is only one of several built-in functions:\n",
    "\n",
    "Open the Python Manuals (https://docs.python.org/3/ ). \n",
    "\n",
    "Click on Library Reference >  Built-in Functions and search for the round function. \n",
    "\n",
    "Using the round function:\n"
   ]
  },
  {
   "cell_type": "code",
   "execution_count": 11,
   "metadata": {},
   "outputs": [
    {
     "name": "stdout",
     "output_type": "stream",
     "text": [
      "2.6\n"
     ]
    }
   ],
   "source": [
    "e = 2.645\n",
    "f = round (e, 1)\n",
    "print (f)"
   ]
  },
  {
   "cell_type": "markdown",
   "metadata": {},
   "source": [
    "Strings can also be converted to numbers (Caution: this works only, if the string is built of number characters only)\n",
    "\n",
    "int() function: \n"
   ]
  },
  {
   "cell_type": "code",
   "execution_count": 12,
   "metadata": {},
   "outputs": [
    {
     "name": "stdout",
     "output_type": "stream",
     "text": [
      "10040\n"
     ]
    }
   ],
   "source": [
    "strVariable = \"5020\"\n",
    "intVariable = int(strVariable)\n",
    "print (intVariable *2)"
   ]
  },
  {
   "cell_type": "markdown",
   "metadata": {},
   "source": [
    "Use the same lines of code but without the int() function:"
   ]
  },
  {
   "cell_type": "code",
   "execution_count": 13,
   "metadata": {},
   "outputs": [
    {
     "name": "stdout",
     "output_type": "stream",
     "text": [
      "50205020\n"
     ]
    }
   ],
   "source": [
    "print (strVariable *2)"
   ]
  },
  {
   "cell_type": "markdown",
   "metadata": {},
   "source": [
    "The result is not an error message, but: \"50205020\". Multiplication of strings is allowed (but not always useful)."
   ]
  },
  {
   "cell_type": "markdown",
   "metadata": {},
   "source": [
    "### Methods"
   ]
  },
  {
   "cell_type": "markdown",
   "metadata": {},
   "source": [
    "Methods are like functions, except that they are associated with a particular object.\n",
    "The usage follows the scheme:\t\n",
    "\n",
    "object.method(parameter) \n",
    "\n",
    "Let’s take a mutable list-object. If it is changed, the result has not to be saved in a new variable. Define a list variable and type (in a new line) the variable followed by a “.” – if you are in a ArcGIS Pro Notebook enter the \".\" and press the \"Tabulator\" tab. The available methods for lists should be displayed. Select the method append and add a value to the list:\n",
    "\n"
   ]
  },
  {
   "cell_type": "code",
   "execution_count": 15,
   "metadata": {},
   "outputs": [],
   "source": [
    "lstVariable = [1,2,3,4,5,6]\n",
    "lstVariable.append(7)"
   ]
  },
  {
   "cell_type": "code",
   "execution_count": 16,
   "metadata": {},
   "outputs": [
    {
     "name": "stdout",
     "output_type": "stream",
     "text": [
      "[1, 2, 3, 4, 5, 6, 7]\n"
     ]
    }
   ],
   "source": [
    "lstVariable = [1,2,3,4,5,6]\n",
    "lstVariable.append(7)\n",
    "print (lstVariable)"
   ]
  },
  {
   "cell_type": "markdown",
   "metadata": {},
   "source": [
    "Syntax explanations for such methods can be found in the Python help (in Pyzo called \"interactive help\" or as always also online).\n",
    "\n",
    "String also have specific methods: \n"
   ]
  },
  {
   "cell_type": "code",
   "execution_count": 19,
   "metadata": {},
   "outputs": [
    {
     "name": "stdout",
     "output_type": "stream",
     "text": [
      "1\n",
      "d:\\temp \\Data\n"
     ]
    }
   ],
   "source": [
    "strVariable = \"c:\\\\temp \\\\Data\"\n",
    "print (strVariable.find(\":\"))\n",
    "newVariable = strVariable.replace(\"c:\", \"d:\")\n",
    "print (newVariable)"
   ]
  },
  {
   "cell_type": "markdown",
   "metadata": {},
   "source": [
    "Caution: The replace method is replacing not only the first occurrence of a character, but also all occurrences in the string!\n",
    "\n",
    "As you can see, strings are immutable – the methods are not changing the original string. The results of the methods have to be saved in a new variable (in contrast to methods of lists and dictionaries).\n"
   ]
  },
  {
   "cell_type": "markdown",
   "metadata": {},
   "source": [
    "### Interactive input:    input function "
   ]
  },
  {
   "cell_type": "markdown",
   "metadata": {},
   "source": [
    "The input built-in function is very useful for the testing of scripts (especially outside the ArcGIS environment) and offers the opportunity to interactively request user input during run-time of the script. The input will then be saved within the given variable:"
   ]
  },
  {
   "cell_type": "code",
   "execution_count": 20,
   "metadata": {},
   "outputs": [
    {
     "name": "stdout",
     "output_type": "stream",
     "text": [
      "Select a file name:hhh\n",
      "The selected file name is : hhh\n"
     ]
    }
   ],
   "source": [
    "userVariable = input(\"Select a file name:\")\n",
    "print (\"The selected file name is : \" + userVariable)"
   ]
  },
  {
   "cell_type": "markdown",
   "metadata": {},
   "source": [
    "Execute the lines of code and enter any value in the upcoming input-request  (in the Pyzo IDE the input is requested in the interactive window, in some IDEs a pop-up windows aks for input, in Notebooks the input window is shown below the code cell). \n",
    "The input will be saved as a string variable. If you want to use a number as interactive user input you have to convert the input values afterwards:"
   ]
  },
  {
   "cell_type": "code",
   "execution_count": 21,
   "metadata": {},
   "outputs": [
    {
     "name": "stdout",
     "output_type": "stream",
     "text": [
      "Please enter a number:66\n",
      "4356.0\n"
     ]
    }
   ],
   "source": [
    "userVariable = input(\"Please enter a number:\")\n",
    "numCalc = float(userVariable)*float(userVariable)\n",
    "print (numCalc)"
   ]
  },
  {
   "cell_type": "markdown",
   "metadata": {},
   "source": [
    "=> Your first (very basic) calculation software in Python"
   ]
  },
  {
   "cell_type": "code",
   "execution_count": null,
   "metadata": {},
   "outputs": [],
   "source": []
  }
 ],
 "metadata": {
  "kernelspec": {
   "display_name": "ArcGISPro",
   "language": "Python",
   "name": "python3"
  },
  "language_info": {
   "file_extension": ".py",
   "name": "python",
   "version": "3"
  }
 },
 "nbformat": 4,
 "nbformat_minor": 2
}
